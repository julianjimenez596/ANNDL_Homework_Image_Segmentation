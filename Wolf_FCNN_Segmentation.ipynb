{
  "nbformat": 4,
  "nbformat_minor": 0,
  "metadata": {
    "colab": {
      "name": "Wolf_FCNN_Segmentation.ipynb",
      "provenance": []
    },
    "kernelspec": {
      "name": "python3",
      "display_name": "Python 3"
    }
  },
  "cells": [
    {
      "cell_type": "markdown",
      "metadata": {
        "id": "gNXMy7SbdeAW",
        "colab_type": "text"
      },
      "source": [
        "#Artificial Neural Networks and Deep Learning\n",
        "#Homework 2: Image Segmentation\n",
        "\n",
        "Students:\n",
        "\n",
        "*   Julián Jiménez\n",
        "*   Samuel Polo\n",
        "\n"
      ]
    },
    {
      "cell_type": "code",
      "metadata": {
        "id": "5iP-AdkXXmoU",
        "colab_type": "code",
        "colab": {
          "base_uri": "https://localhost:8080/",
          "height": 54
        },
        "outputId": "75d72b06-5dfe-4d4c-86e3-c1fb0f04fdee"
      },
      "source": [
        "%tensorflow_version 2.x\n",
        "import tensorflow as tf\n",
        "print(tf.__version__)"
      ],
      "execution_count": 2,
      "outputs": [
        {
          "output_type": "stream",
          "text": [
            "TensorFlow 2.x selected.\n",
            "2.0.0\n"
          ],
          "name": "stdout"
        }
      ]
    },
    {
      "cell_type": "code",
      "metadata": {
        "id": "9ZVsNbq4eINQ",
        "colab_type": "code",
        "colab": {}
      },
      "source": [
        "import numpy as np\n",
        "import os"
      ],
      "execution_count": 0,
      "outputs": []
    },
    {
      "cell_type": "code",
      "metadata": {
        "id": "A69w3uuGeUhK",
        "colab_type": "code",
        "colab": {}
      },
      "source": [
        "# Set the seed for random operations. \n",
        "# This allows our process to be reproducible. \n",
        "\n",
        "SEED = 1234\n",
        "tf.random.set_seed(SEED)\n",
        "np.random.seed(SEED)\n",
        "\n",
        "# Get current working directory\n",
        "cwd = os.getcwd()"
      ],
      "execution_count": 0,
      "outputs": []
    },
    {
      "cell_type": "code",
      "metadata": {
        "id": "TOP56xdYiPal",
        "colab_type": "code",
        "colab": {}
      },
      "source": [
        "!unzip Segmentation_Dataset.zip"
      ],
      "execution_count": 0,
      "outputs": []
    },
    {
      "cell_type": "code",
      "metadata": {
        "id": "wfO9kY5Reypf",
        "colab_type": "code",
        "colab": {}
      },
      "source": [
        "# ImageDataGenerator\n",
        "# ------------------\n",
        "\n",
        "from tensorflow.keras.preprocessing.image import ImageDataGenerator\n",
        "\n",
        "apply_data_augmentation = False\n",
        "\n",
        "# Create training ImageDataGenerator object\n",
        "# We need two different generators for images and corresponding masks\n",
        "if apply_data_augmentation:\n",
        "    train_img_data_gen = ImageDataGenerator(rotation_range=10,\n",
        "                                            width_shift_range=10,\n",
        "                                            height_shift_range=10,\n",
        "                                            zoom_range=0.3,\n",
        "                                            horizontal_flip=True,\n",
        "                                            vertical_flip=True,\n",
        "                                            fill_mode='constant',\n",
        "                                            cval=0,\n",
        "                                            rescale=1./255) #Use rescale=1./255 in the mask ImageDataGenerator to obtain binary values {0, 1} as target.\n",
        "    train_mask_data_gen = ImageDataGenerator(rotation_range=10,\n",
        "                                             width_shift_range=10,\n",
        "                                             height_shift_range=10,\n",
        "                                             zoom_range=0.3,\n",
        "                                             horizontal_flip=True,\n",
        "                                             vertical_flip=True,\n",
        "                                             fill_mode='constant',\n",
        "                                             cval=0)\n",
        "else:\n",
        "    train_img_data_gen = ImageDataGenerator(rescale=1./255)\n",
        "    train_mask_data_gen = ImageDataGenerator()\n",
        "\n",
        "# Create validation and test ImageDataGenerator objects\n",
        "valid_img_data_gen = ImageDataGenerator(rescale=1./255)\n",
        "valid_mask_data_gen = ImageDataGenerator()\n",
        "test_img_data_gen = ImageDataGenerator(rescale=1./255)\n",
        "test_mask_data_gen = ImageDataGenerator()"
      ],
      "execution_count": 0,
      "outputs": []
    },
    {
      "cell_type": "code",
      "metadata": {
        "id": "C_K_GvGLgYKk",
        "colab_type": "code",
        "colab": {}
      },
      "source": [
        "# Create generators to read images from dataset directory\n",
        "# -------------------------------------------------------\n",
        "dataset_dir = os.path.join(cwd, 'Pet_Dataset')\n",
        "\n",
        "# Batch size\n",
        "bs = 4\n",
        "\n",
        "# img shape\n",
        "img_h = 256\n",
        "img_w = 256\n",
        "\n",
        "num_classes=2\n",
        "\n",
        "# Training\n",
        "# Two different generators for images and masks\n",
        "# ATTENTION: here the seed is important!! We have to give the same SEED to both the generator\n",
        "# to apply the same transformations/shuffling to images and corresponding masks\n",
        "training_dir = os.path.join(dataset_dir, 'training')\n",
        "train_img_gen = train_img_data_gen.flow_from_directory(os.path.join(training_dir, 'images'),\n",
        "                                                       target_size=(img_h, img_w),\n",
        "                                                       batch_size=bs, \n",
        "                                                       class_mode=None, # Because we have no class subfolders in this case\n",
        "                                                       shuffle=True,\n",
        "                                                       interpolation='bilinear',\n",
        "                                                       seed=SEED)  \n",
        "train_mask_gen = train_mask_data_gen.flow_from_directory(os.path.join(training_dir, 'masks'),\n",
        "                                                         target_size=(img_h, img_w),\n",
        "                                                         batch_size=bs,\n",
        "                                                         class_mode=None, # Because we have no class subfolders in this case\n",
        "                                                         shuffle=True,\n",
        "                                                         interpolation='bilinear',\n",
        "                                                         seed=SEED)\n",
        "train_gen = zip(train_img_gen, train_mask_gen)\n",
        "\n",
        "# Validation\n",
        "validation_dir = os.path.join(dataset_dir, 'validation')\n",
        "valid_img_gen = valid_img_data_gen.flow_from_directory(os.path.join(validation_dir, 'images'),\n",
        "                                                       target_size=(img_h, img_w),\n",
        "                                                       batch_size=bs, \n",
        "                                                       class_mode=None, # Because we have no class subfolders in this case\n",
        "                                                       shuffle=False,\n",
        "                                                       interpolation='bilinear',\n",
        "                                                       seed=SEED)\n",
        "valid_mask_gen = valid_mask_data_gen.flow_from_directory(os.path.join(validation_dir, 'masks'),\n",
        "                                                         target_size=(img_h, img_w),\n",
        "                                                         batch_size=bs, \n",
        "                                                         class_mode=None, # Because we have no class subfolders in this case\n",
        "                                                         shuffle=False,\n",
        "                                                         interpolation='bilinear',\n",
        "                                                         seed=SEED)\n",
        "valid_gen = zip(valid_img_gen, valid_mask_gen)\n",
        "\n",
        "# Test\n",
        "test_dir = os.path.join(dataset_dir, 'test')\n",
        "test_img_gen = test_img_data_gen.flow_from_directory(os.path.join(test_dir, 'images'),\n",
        "                                                     target_size=(img_h, img_w),\n",
        "                                                     batch_size=bs, \n",
        "                                                     class_mode=None, # Because we have no class subfolders in this case\n",
        "                                                     shuffle=False,\n",
        "                                                     interpolation='bilinear',\n",
        "                                                     seed=SEED)\n",
        "test_mask_gen = test_mask_data_gen.flow_from_directory(os.path.join(test_dir, 'masks'),\n",
        "                                                       target_size=(img_h, img_w),\n",
        "                                                       batch_size=bs, \n",
        "                                                       class_mode=None, # Because we have no class subfolders in this case\n",
        "                                                       shuffle=False,\n",
        "                                                       interpolation='bilinear',\n",
        "                                                       seed=SEED)\n",
        "test_gen = zip(test_img_gen, test_mask_gen)"
      ],
      "execution_count": 0,
      "outputs": []
    },
    {
      "cell_type": "code",
      "metadata": {
        "id": "ajpMINA1geCH",
        "colab_type": "code",
        "colab": {}
      },
      "source": [
        "# Create Dataset objects\n",
        "# ----------------------\n",
        "\n",
        "# Training\n",
        "# --------\n",
        "train_dataset = tf.data.Dataset.from_generator(lambda: train_gen,\n",
        "                                               output_types=(tf.float32, tf.float32),\n",
        "                                               output_shapes=([None, img_h, img_w, 3], [None, img_h, img_w, 3]))\n",
        "\n",
        "def prepare_target(x_, y_):\n",
        "    y_ = tf.cast(tf.expand_dims(y_[..., 0], -1), tf.int32)\n",
        "    return x_, tf.where(y_ > 0, y_ - 1, y_ + 1)\n",
        "\n",
        "train_dataset = train_dataset.map(prepare_target)\n",
        "\n",
        "# Repeat\n",
        "train_dataset = train_dataset.repeat()\n",
        "\n",
        "# Validation\n",
        "# ----------\n",
        "valid_dataset = tf.data.Dataset.from_generator(lambda: valid_gen, \n",
        "                                               output_types=(tf.float32, tf.float32),\n",
        "                                               output_shapes=([None, img_h, img_w, 3], [None, img_h, img_w, 3]))\n",
        "valid_dataset = valid_dataset.map(prepare_target)\n",
        "\n",
        "# Repeat\n",
        "valid_dataset = valid_dataset.repeat()\n",
        "\n",
        "# Test\n",
        "# ----\n",
        "test_dataset = tf.data.Dataset.from_generator(lambda: test_gen,\n",
        "                                              output_types=(tf.float32, tf.float32),\n",
        "                                              output_shapes=([None, img_h, img_w, 3], [None, img_h, img_w, 3]))\n",
        "test_dataset = test_dataset.map(prepare_target)\n",
        "\n",
        "# Repeat\n",
        "test_dataset = valid_dataset.repeat()"
      ],
      "execution_count": 0,
      "outputs": []
    },
    {
      "cell_type": "code",
      "metadata": {
        "id": "5Ii-GWgbgiyA",
        "colab_type": "code",
        "colab": {}
      },
      "source": [
        "# Let's test data generator\n",
        "# -------------------------\n",
        "import time\n",
        "import matplotlib.pyplot as plt\n",
        "\n",
        "%matplotlib notebook\n",
        "\n",
        "fig, ax = plt.subplots(1, 2)\n",
        "fig.show()\n",
        "\n",
        "# Assign a color to each class\n",
        "colors_dict = {}\n",
        "colors_dict[0] = [252, 186, 3]  # foreground\n",
        "colors_dict[1] = [0, 0, 0]  # background\n",
        "colors_dict[2] = [3, 82, 252] # contours\n",
        "\n",
        "iterator = iter(train_dataset)\n",
        "\n",
        "for _ in range(1000):\n",
        "    augmented_img, target = next(iterator)\n",
        "    augmented_img = augmented_img[0]   # First element\n",
        "    augmented_img = augmented_img * 255  # denormalize\n",
        "    \n",
        "    target = np.array(target[0, ..., 0])   # First element (squeezing channel dimension)\n",
        "    \n",
        "    # Assign colors (just for visualization)\n",
        "    target_img = np.zeros([target.shape[0], target.shape[1], 3])\n",
        "    \n",
        "    target_img[np.where(target == 0)] = colors_dict[0]\n",
        "    target_img[np.where(target == 1)] = colors_dict[1]\n",
        "    target_img[np.where(target == 2)] = colors_dict[2]\n",
        "    \n",
        "    ax[0].imshow(np.uint8(augmented_img))\n",
        "    ax[1].imshow(np.uint8(target_img))\n",
        "    \n",
        "    fig.canvas.draw()\n",
        "    time.sleep(1)"
      ],
      "execution_count": 0,
      "outputs": []
    },
    {
      "cell_type": "code",
      "metadata": {
        "id": "MHRGZBF7glC3",
        "colab_type": "code",
        "colab": {}
      },
      "source": [
        "np.unique(target_img)"
      ],
      "execution_count": 0,
      "outputs": []
    },
    {
      "cell_type": "markdown",
      "metadata": {
        "id": "lmCMGk9rgpli",
        "colab_type": "text"
      },
      "source": [
        "#**Convolutional Neural Network**\n",
        "\n",
        "##**Encoder-Decoder**"
      ]
    },
    {
      "cell_type": "code",
      "metadata": {
        "id": "canuHp0lgodT",
        "colab_type": "code",
        "colab": {}
      },
      "source": [
        "# Create Model\n",
        "# ------------\n",
        "\n",
        "def create_model(depth, start_f, num_classes, dynamic_input_shape):\n",
        "\n",
        "    model = tf.keras.Sequential()\n",
        "    \n",
        "    # Encoder\n",
        "    # -------\n",
        "    for i in range(depth):\n",
        "        \n",
        "        if i == 0:\n",
        "            if dynamic_input_shape:\n",
        "                input_shape = [None, None, 3]\n",
        "            else:\n",
        "                input_shape = [img_h, img_w, 3]\n",
        "        else:\n",
        "            input_shape=[None]\n",
        "        \n",
        "        model.add(tf.keras.layers.Conv2D(filters=start_f, \n",
        "                                         kernel_size=(3, 3),\n",
        "                                         strides=(1, 1),\n",
        "                                         padding='same',\n",
        "                                         input_shape=input_shape))\n",
        "        model.add(tf.keras.layers.ReLU())\n",
        "        model.add(tf.keras.layers.MaxPool2D(pool_size=(2, 2)))\n",
        "\n",
        "        start_f *= 2\n",
        "\n",
        "    # Decoder\n",
        "    # -------\n",
        "    for i in range(depth):\n",
        "        model.add(tf.keras.layers.UpSampling2D(2, interpolation='bilinear'))\n",
        "        model.add(tf.keras.layers.Conv2D(filters=start_f // 2,\n",
        "                                         kernel_size=(3, 3),\n",
        "                                         strides=(1, 1),\n",
        "                                         padding='same'))\n",
        "\n",
        "        model.add(tf.keras.layers.ReLU())\n",
        "\n",
        "        start_f = start_f // 2\n",
        "\n",
        "    # Prediction Layer\n",
        "    # ----------------\n",
        "    model.add(tf.keras.layers.Conv2D(filters=num_classes,\n",
        "                                     kernel_size=(1, 1),\n",
        "                                     strides=(1, 1),\n",
        "                                     padding='same',\n",
        "                                     activation='softmax'))\n",
        "    \n",
        "    return model"
      ],
      "execution_count": 0,
      "outputs": []
    },
    {
      "cell_type": "code",
      "metadata": {
        "id": "6F7AhFgLg6k6",
        "colab_type": "code",
        "colab": {}
      },
      "source": [
        "model = create_model(depth=4, \n",
        "                     start_f=4, \n",
        "                     num_classes=3, \n",
        "                     dynamic_input_shape=False)\n",
        "\n",
        "# Visualize created model as a table\n",
        "model.summary()\n",
        "\n",
        "# Visualize initialized weights\n",
        "model.weights"
      ],
      "execution_count": 0,
      "outputs": []
    },
    {
      "cell_type": "markdown",
      "metadata": {
        "id": "EqIT9VbMg8ow",
        "colab_type": "text"
      },
      "source": [
        "#**Prepare the models for Training**"
      ]
    },
    {
      "cell_type": "code",
      "metadata": {
        "id": "6PmYqFKYhCui",
        "colab_type": "code",
        "colab": {}
      },
      "source": [
        "# Optimization params\n",
        "# -------------------\n",
        "\n",
        "# Loss\n",
        "# Sparse Categorical Crossentropy to use integers (mask) instead of one-hot encoded labels\n",
        "loss = tf.keras.losses.SparseCategoricalCrossentropy(from_logits=False) \n",
        "# learning rate\n",
        "lr = 1e-3\n",
        "optimizer = tf.keras.optimizers.Adam(learning_rate=lr)\n",
        "# -------------------\n",
        "\n",
        "# Validation metrics\n",
        "# ------------------\n",
        "\n",
        "metrics = ['accuracy']\n",
        "# ------------------\n",
        "\n",
        "# Compile Model\n",
        "model.compile(optimizer=optimizer, loss=loss, metrics=metrics)"
      ],
      "execution_count": 0,
      "outputs": []
    },
    {
      "cell_type": "markdown",
      "metadata": {
        "id": "llwsIT-ihGou",
        "colab_type": "text"
      },
      "source": [
        "#**Training with callbacks**"
      ]
    },
    {
      "cell_type": "code",
      "metadata": {
        "id": "rzguHxP_hFm9",
        "colab_type": "code",
        "colab": {}
      },
      "source": [
        "import os\n",
        "from datetime import datetime\n",
        "\n",
        "# from tensorflow.compat.v1 import ConfigProto\n",
        "# from tensorflow.compat.v1 import InteractiveSession\n",
        "\n",
        "# config = ConfigProto()\n",
        "# config.gpu_options.allow_growth = True\n",
        "# session = InteractiveSession(config=config)\n",
        "\n",
        "cwd = os.getcwd()\n",
        "\n",
        "exps_dir = os.path.join(cwd, 'segmentation_experiments')\n",
        "if not os.path.exists(exps_dir):\n",
        "    os.makedirs(exps_dir)\n",
        "\n",
        "now = datetime.now().strftime('%b%d_%H-%M-%S')\n",
        "\n",
        "model_name = 'CNN'\n",
        "\n",
        "exp_dir = os.path.join(exps_dir, model_name + '_' + str(now))\n",
        "if not os.path.exists(exp_dir):\n",
        "    os.makedirs(exp_dir)\n",
        "    \n",
        "callbacks = []\n",
        "\n",
        "# Model checkpoint\n",
        "# ----------------\n",
        "ckpt_dir = os.path.join(exp_dir, 'ckpts')\n",
        "if not os.path.exists(ckpt_dir):\n",
        "    os.makedirs(ckpt_dir)\n",
        "\n",
        "ckpt_callback = tf.keras.callbacks.ModelCheckpoint(filepath=os.path.join(ckpt_dir, 'cp_{epoch:02d}.ckpt'), \n",
        "                                                   save_weights_only=True)  # False to save the model directly\n",
        "callbacks.append(ckpt_callback)\n",
        "\n",
        "# Visualize Learning on Tensorboard\n",
        "# ---------------------------------\n",
        "tb_dir = os.path.join(exp_dir, 'tb_logs')\n",
        "if not os.path.exists(tb_dir):\n",
        "    os.makedirs(tb_dir)\n",
        "    \n",
        "# By default shows losses and metrics for both training and validation\n",
        "tb_callback = tf.keras.callbacks.TensorBoard(log_dir=tb_dir,\n",
        "                                             profile_batch=0,\n",
        "                                             histogram_freq=0)  # if 1 shows weights histograms\n",
        "callbacks.append(tb_callback)\n",
        "\n",
        "# Early Stopping\n",
        "# --------------\n",
        "early_stop = False\n",
        "if early_stop:\n",
        "    es_callback = tf.keras.callback.EarlyStopping(monitor='val_loss', patience=10)\n",
        "    callbacks.append(es_callback)\n",
        "\n",
        "\n",
        "model.fit(x=train_dataset,\n",
        "          epochs=100,  #### set repeat in training dataset\n",
        "          steps_per_epoch=len(train_img_gen),\n",
        "          validation_data=valid_dataset,\n",
        "          validation_steps=len(valid_img_gen), \n",
        "          callbacks=callbacks)\n",
        "\n",
        "# How to visualize Tensorboard\n",
        "\n",
        "# 1. tensorboard --logdir EXPERIMENTS_DIR --port PORT     <- from terminal\n",
        "# 2. localhost:PORT   <- in your browser"
      ],
      "execution_count": 0,
      "outputs": []
    },
    {
      "cell_type": "markdown",
      "metadata": {
        "id": "2_LLXg-rhOQJ",
        "colab_type": "text"
      },
      "source": [
        "#**Test model**"
      ]
    },
    {
      "cell_type": "code",
      "metadata": {
        "id": "KLjal2bohNYx",
        "colab_type": "code",
        "colab": {}
      },
      "source": [
        "# Just for exercise try to restore a model after training it\n",
        "# !! Use this just when restoring model.. \n",
        "# ---------------------------------------\n",
        "restore_model = True\n",
        "if restore_model:\n",
        "    model = create_model(depth=4, \n",
        "                         start_f=4, \n",
        "                         num_classes=3, \n",
        "                         dynamic_input_shape=True)\n",
        "\n",
        "    model.compile(loss=tf.keras.losses.SparseCategoricalCrossentropy(from_logits=False), \n",
        "                  metrics=['accuracy'])  # Needed for loading weights\n",
        "\n",
        "    model.load_weights(os.path.join(\n",
        "        cwd, 'segmentation_experiments', 'EXP_FOLDER', 'ckpts', 'cp_60.ckpt'))  # use this if you want to restore saved model\n",
        "# ----------------------------------------\n",
        "\n",
        "eval_out = model.evaluate(x=test_dataset,\n",
        "                          steps=len(test_img_gen),\n",
        "                          verbose=0)\n",
        "\n",
        "eval_out"
      ],
      "execution_count": 0,
      "outputs": []
    },
    {
      "cell_type": "markdown",
      "metadata": {
        "id": "hEpAOx5mhaA9",
        "colab_type": "text"
      },
      "source": [
        "#**Compute Prediction**"
      ]
    },
    {
      "cell_type": "code",
      "metadata": {
        "id": "zOXuGLGQhdBr",
        "colab_type": "code",
        "colab": {}
      },
      "source": [
        "import time\n",
        "import matplotlib.pyplot as plt\n",
        "\n",
        "from PIL import Image\n",
        "\n",
        "%matplotlib notebook\n",
        "\n",
        "# Cycle over test images\n",
        "\n",
        "test_img_dir = os.path.join(test_dir, 'images', 'img')\n",
        "test_mask_dir = os.path.join(test_dir, 'masks', 'img')\n",
        "\n",
        "img_filenames = next(os.walk(test_img_dir))[2]\n",
        "\n",
        "fig, ax = plt.subplots(1, 3, figsize=(8, 8))\n",
        "fig.show()\n",
        "\n",
        "# Assign a color to each class\n",
        "colors_dict = {}\n",
        "colors_dict[0] = [252, 186, 3]  # foreground\n",
        "colors_dict[1] = [0, 0, 0]      # background\n",
        "colors_dict[2] = [3, 82, 252]   # contours\n",
        "\n",
        "for img_filename in img_filenames:\n",
        "    \n",
        "    mask_filename = img_filename[:-4] + '.png'\n",
        "    \n",
        "    img = Image.open(os.path.join(test_img_dir, img_filename))\n",
        "    img = img.resize((128, 128))\n",
        "    mask = Image.open(os.path.join(test_mask_dir, mask_filename))\n",
        "    mask = mask.resize((128, 128))\n",
        "    \n",
        "    img_arr = np.expand_dims(np.array(img), 0)\n",
        "    \n",
        "    out_softmax = model.predict(x=img_arr / 255.)\n",
        "    \n",
        "    # Get predicted class as the index corresponding to the maximum value in the vector probability\n",
        "    predicted_class = tf.argmax(out_softmax, -1)\n",
        "    predicted_class = predicted_class[0]\n",
        "    \n",
        "    target = np.array(mask)\n",
        "    target -= 1    ## to get classes 0,1,2 instead of 1,2,3\n",
        "    \n",
        "    print(target.shape)\n",
        "    \n",
        "    # Assign colors (just for visualization)\n",
        "    target_img = np.zeros([target.shape[0], target.shape[1], 3])\n",
        "    prediction_img = np.zeros([target.shape[0], target.shape[1], 3])\n",
        "    \n",
        "    target_img[np.where(target == 0)] = colors_dict[0]\n",
        "    target_img[np.where(target == 1)] = colors_dict[1]\n",
        "    target_img[np.where(target == 2)] = colors_dict[2]\n",
        "    \n",
        "    prediction_img[np.where(predicted_class == 0)] = colors_dict[0]\n",
        "    prediction_img[np.where(predicted_class == 1)] = colors_dict[1]\n",
        "    prediction_img[np.where(predicted_class == 2)] = colors_dict[2]\n",
        "    \n",
        "    ax[0].imshow(np.uint8(img_arr[0, ...]))\n",
        "    ax[1].imshow(np.uint8(target_img))\n",
        "    ax[2].imshow(np.uint8(prediction_img))\n",
        "    \n",
        "    fig.canvas.draw()\n",
        "    time.sleep(1)"
      ],
      "execution_count": 0,
      "outputs": []
    }
  ]
}